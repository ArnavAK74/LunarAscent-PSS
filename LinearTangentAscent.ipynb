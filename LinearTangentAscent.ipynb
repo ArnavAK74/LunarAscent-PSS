{
  "nbformat": 4,
  "nbformat_minor": 0,
  "metadata": {
    "colab": {
      "provenance": [],
      "authorship_tag": "ABX9TyNwD1x+gEnQPG8JV+hkMOYb",
      "include_colab_link": true
    },
    "kernelspec": {
      "name": "python3",
      "display_name": "Python 3"
    },
    "language_info": {
      "name": "python"
    }
  },
  "cells": [
    {
      "cell_type": "markdown",
      "metadata": {
        "id": "view-in-github",
        "colab_type": "text"
      },
      "source": [
        "<a href=\"https://colab.research.google.com/github/ArnavAK74/LunarAscent-PSS/blob/main/LinearTangentAscent.ipynb\" target=\"_parent\"><img src=\"https://colab.research.google.com/assets/colab-badge.svg\" alt=\"Open In Colab\"/></a>"
      ]
    },
    {
      "cell_type": "code",
      "source": [
        "pip install openmdao"
      ],
      "metadata": {
        "colab": {
          "base_uri": "https://localhost:8080/"
        },
        "id": "syxtLi-u-uy1",
        "outputId": "19dc81c7-84c4-485d-e228-7ace42cdf014"
      },
      "execution_count": null,
      "outputs": [
        {
          "output_type": "stream",
          "name": "stdout",
          "text": [
            "Collecting openmdao\n",
            "  Downloading openmdao-3.38.0.tar.gz (12.6 MB)\n",
            "\u001b[2K     \u001b[90m━━━━━━━━━━━━━━━━━━━━━━━━━━━━━━━━━━━━━━━━\u001b[0m \u001b[32m12.6/12.6 MB\u001b[0m \u001b[31m37.3 MB/s\u001b[0m eta \u001b[36m0:00:00\u001b[0m\n",
            "\u001b[?25h  Installing build dependencies ... \u001b[?25l\u001b[?25hdone\n",
            "  Getting requirements to build wheel ... \u001b[?25l\u001b[?25hdone\n",
            "  Preparing metadata (pyproject.toml) ... \u001b[?25l\u001b[?25hdone\n",
            "Requirement already satisfied: networkx>=2.0 in /usr/local/lib/python3.11/dist-packages (from openmdao) (3.4.2)\n",
            "Requirement already satisfied: numpy in /usr/local/lib/python3.11/dist-packages (from openmdao) (2.0.2)\n",
            "Requirement already satisfied: packaging in /usr/local/lib/python3.11/dist-packages (from openmdao) (24.2)\n",
            "Requirement already satisfied: requests in /usr/local/lib/python3.11/dist-packages (from openmdao) (2.32.3)\n",
            "Requirement already satisfied: scipy in /usr/local/lib/python3.11/dist-packages (from openmdao) (1.14.1)\n",
            "Requirement already satisfied: charset-normalizer<4,>=2 in /usr/local/lib/python3.11/dist-packages (from requests->openmdao) (3.4.1)\n",
            "Requirement already satisfied: idna<4,>=2.5 in /usr/local/lib/python3.11/dist-packages (from requests->openmdao) (3.10)\n",
            "Requirement already satisfied: urllib3<3,>=1.21.1 in /usr/local/lib/python3.11/dist-packages (from requests->openmdao) (2.3.0)\n",
            "Requirement already satisfied: certifi>=2017.4.17 in /usr/local/lib/python3.11/dist-packages (from requests->openmdao) (2025.1.31)\n",
            "Building wheels for collected packages: openmdao\n",
            "  Building wheel for openmdao (pyproject.toml) ... \u001b[?25l\u001b[?25hdone\n",
            "  Created wheel for openmdao: filename=openmdao-3.38.0-py3-none-any.whl size=13265406 sha256=d32a82affa394cba13ff0d10c8b9fe6d5571678060baca1180604ef37ff9ae5b\n",
            "  Stored in directory: /root/.cache/pip/wheels/f0/e8/57/5e30138f57c1ae0571d953f2217db9cfd18e2da560e5ef13e6\n",
            "Successfully built openmdao\n",
            "Installing collected packages: openmdao\n",
            "Successfully installed openmdao-3.38.0\n"
          ]
        }
      ]
    },
    {
      "cell_type": "code",
      "source": [
        "pip install dymos"
      ],
      "metadata": {
        "colab": {
          "base_uri": "https://localhost:8080/"
        },
        "id": "cXvANrjQ_Dd1",
        "outputId": "13fbe09d-8b9b-4c6a-833d-253c42695b13"
      },
      "execution_count": null,
      "outputs": [
        {
          "output_type": "stream",
          "name": "stdout",
          "text": [
            "Collecting dymos\n",
            "  Downloading dymos-1.12.0.tar.gz (530 kB)\n",
            "\u001b[2K     \u001b[90m━━━━━━━━━━━━━━━━━━━━━━━━━━━━━━━━━━━━━━━━\u001b[0m \u001b[32m530.2/530.2 kB\u001b[0m \u001b[31m6.9 MB/s\u001b[0m eta \u001b[36m0:00:00\u001b[0m\n",
            "\u001b[?25h  Installing build dependencies ... \u001b[?25l\u001b[?25hdone\n",
            "  Getting requirements to build wheel ... \u001b[?25l\u001b[?25hdone\n",
            "  Preparing metadata (pyproject.toml) ... \u001b[?25l\u001b[?25hdone\n",
            "Requirement already satisfied: numpy in /usr/local/lib/python3.11/dist-packages (from dymos) (2.0.2)\n",
            "Requirement already satisfied: openmdao>=3.27.0 in /usr/local/lib/python3.11/dist-packages (from dymos) (3.38.0)\n",
            "Requirement already satisfied: scipy in /usr/local/lib/python3.11/dist-packages (from dymos) (1.14.1)\n",
            "Requirement already satisfied: networkx>=2.0 in /usr/local/lib/python3.11/dist-packages (from openmdao>=3.27.0->dymos) (3.4.2)\n",
            "Requirement already satisfied: packaging in /usr/local/lib/python3.11/dist-packages (from openmdao>=3.27.0->dymos) (24.2)\n",
            "Requirement already satisfied: requests in /usr/local/lib/python3.11/dist-packages (from openmdao>=3.27.0->dymos) (2.32.3)\n",
            "Requirement already satisfied: charset-normalizer<4,>=2 in /usr/local/lib/python3.11/dist-packages (from requests->openmdao>=3.27.0->dymos) (3.4.1)\n",
            "Requirement already satisfied: idna<4,>=2.5 in /usr/local/lib/python3.11/dist-packages (from requests->openmdao>=3.27.0->dymos) (3.10)\n",
            "Requirement already satisfied: urllib3<3,>=1.21.1 in /usr/local/lib/python3.11/dist-packages (from requests->openmdao>=3.27.0->dymos) (2.3.0)\n",
            "Requirement already satisfied: certifi>=2017.4.17 in /usr/local/lib/python3.11/dist-packages (from requests->openmdao>=3.27.0->dymos) (2025.1.31)\n",
            "Building wheels for collected packages: dymos\n",
            "  Building wheel for dymos (pyproject.toml) ... \u001b[?25l\u001b[?25hdone\n",
            "  Created wheel for dymos: filename=dymos-1.12.0-py3-none-any.whl size=795145 sha256=109bd21d757753bab6a18ccf61f909f31ebe0e279ecc7ec22e4b1197affb976f\n",
            "  Stored in directory: /root/.cache/pip/wheels/77/7c/2c/5e38aa2cfe2a686e48d153580709b5a0d21f6c36741f07514c\n",
            "Successfully built dymos\n",
            "Installing collected packages: dymos\n",
            "Successfully installed dymos-1.12.0\n"
          ]
        }
      ]
    },
    {
      "cell_type": "code",
      "execution_count": null,
      "metadata": {
        "colab": {
          "base_uri": "https://localhost:8080/"
        },
        "id": "-fC_q_NH8is8",
        "outputId": "3fa920fe-d986-49d4-be26-d76c3d9f444f"
      },
      "outputs": [
        {
          "output_type": "stream",
          "name": "stderr",
          "text": [
            "/usr/local/lib/python3.11/dist-packages/dymos/utils/introspection.py:806: OpenMDAOWarning:traj.phases.phase0: The following timeseries outputs were requested but not found in the ODE: states:m\n"
          ]
        },
        {
          "output_type": "stream",
          "name": "stdout",
          "text": [
            "\n",
            "--- Constraint Report [traj] ---\n",
            "    --- phase0 ---\n",
            "        [final]   2.0000e+04 == y [m]\n",
            "        [final]   1.6270e+03 == vx [m/s]\n",
            "        [final]   0.0000e+00 == vy [m/s]\n",
            "\n",
            "\n",
            "'rhs_checking' is disabled for 'DirectSolver in <model> <class Group>' but that solver has redundant adjoint solves. If it is expensive to compute derivatives for this solver, turning on 'rhs_checking' may improve performance.\n",
            "\n",
            "INFO: checking out_of_order...\n",
            "INFO: checking out_of_order...\n"
          ]
        },
        {
          "output_type": "stream",
          "name": "stderr",
          "text": [
            "INFO:check_config:checking out_of_order...\n"
          ]
        },
        {
          "output_type": "stream",
          "name": "stdout",
          "text": [
            "INFO:     out_of_order check complete (0.001241 sec).\n",
            "INFO:     out_of_order check complete (0.001241 sec).\n"
          ]
        },
        {
          "output_type": "stream",
          "name": "stderr",
          "text": [
            "INFO:check_config:    out_of_order check complete (0.001241 sec).\n"
          ]
        },
        {
          "output_type": "stream",
          "name": "stdout",
          "text": [
            "INFO: checking system...\n",
            "INFO: checking system...\n"
          ]
        },
        {
          "output_type": "stream",
          "name": "stderr",
          "text": [
            "INFO:check_config:checking system...\n"
          ]
        },
        {
          "output_type": "stream",
          "name": "stdout",
          "text": [
            "INFO:     system check complete (0.000076 sec).\n",
            "INFO:     system check complete (0.000076 sec).\n"
          ]
        },
        {
          "output_type": "stream",
          "name": "stderr",
          "text": [
            "INFO:check_config:    system check complete (0.000076 sec).\n"
          ]
        },
        {
          "output_type": "stream",
          "name": "stdout",
          "text": [
            "INFO: checking solvers...\n",
            "INFO: checking solvers...\n"
          ]
        },
        {
          "output_type": "stream",
          "name": "stderr",
          "text": [
            "INFO:check_config:checking solvers...\n"
          ]
        },
        {
          "output_type": "stream",
          "name": "stdout",
          "text": [
            "INFO:     solvers check complete (0.001242 sec).\n",
            "INFO:     solvers check complete (0.001242 sec).\n"
          ]
        },
        {
          "output_type": "stream",
          "name": "stderr",
          "text": [
            "INFO:check_config:    solvers check complete (0.001242 sec).\n"
          ]
        },
        {
          "output_type": "stream",
          "name": "stdout",
          "text": [
            "INFO: checking dup_inputs...\n",
            "INFO: checking dup_inputs...\n"
          ]
        },
        {
          "output_type": "stream",
          "name": "stderr",
          "text": [
            "INFO:check_config:checking dup_inputs...\n"
          ]
        },
        {
          "output_type": "stream",
          "name": "stdout",
          "text": [
            "INFO:     dup_inputs check complete (0.000590 sec).\n",
            "INFO:     dup_inputs check complete (0.000590 sec).\n"
          ]
        },
        {
          "output_type": "stream",
          "name": "stderr",
          "text": [
            "INFO:check_config:    dup_inputs check complete (0.000590 sec).\n"
          ]
        },
        {
          "output_type": "stream",
          "name": "stdout",
          "text": [
            "INFO: checking missing_recorders...\n",
            "INFO: checking missing_recorders...\n"
          ]
        },
        {
          "output_type": "stream",
          "name": "stderr",
          "text": [
            "INFO:check_config:checking missing_recorders...\n"
          ]
        },
        {
          "output_type": "stream",
          "name": "stdout",
          "text": [
            "INFO:     missing_recorders check complete (0.000003 sec).\n",
            "INFO:     missing_recorders check complete (0.000003 sec).\n"
          ]
        },
        {
          "output_type": "stream",
          "name": "stderr",
          "text": [
            "INFO:check_config:    missing_recorders check complete (0.000003 sec).\n"
          ]
        },
        {
          "output_type": "stream",
          "name": "stdout",
          "text": [
            "INFO: checking unserializable_options...\n",
            "INFO: checking unserializable_options...\n"
          ]
        },
        {
          "output_type": "stream",
          "name": "stderr",
          "text": [
            "INFO:check_config:checking unserializable_options...\n"
          ]
        },
        {
          "output_type": "stream",
          "name": "stdout",
          "text": [
            "INFO:     unserializable_options check complete (0.003868 sec).\n",
            "INFO:     unserializable_options check complete (0.003868 sec).\n"
          ]
        },
        {
          "output_type": "stream",
          "name": "stderr",
          "text": [
            "INFO:check_config:    unserializable_options check complete (0.003868 sec).\n"
          ]
        },
        {
          "output_type": "stream",
          "name": "stdout",
          "text": [
            "INFO: checking comp_has_no_outputs...\n",
            "INFO: checking comp_has_no_outputs...\n"
          ]
        },
        {
          "output_type": "stream",
          "name": "stderr",
          "text": [
            "INFO:check_config:checking comp_has_no_outputs...\n"
          ]
        },
        {
          "output_type": "stream",
          "name": "stdout",
          "text": [
            "INFO:     comp_has_no_outputs check complete (0.000134 sec).\n",
            "INFO:     comp_has_no_outputs check complete (0.000134 sec).\n"
          ]
        },
        {
          "output_type": "stream",
          "name": "stderr",
          "text": [
            "INFO:check_config:    comp_has_no_outputs check complete (0.000134 sec).\n"
          ]
        },
        {
          "output_type": "stream",
          "name": "stdout",
          "text": [
            "INFO: checking auto_ivc_warnings...\n",
            "INFO: checking auto_ivc_warnings...\n"
          ]
        },
        {
          "output_type": "stream",
          "name": "stderr",
          "text": [
            "INFO:check_config:checking auto_ivc_warnings...\n"
          ]
        },
        {
          "output_type": "stream",
          "name": "stdout",
          "text": [
            "INFO:     auto_ivc_warnings check complete (0.000007 sec).\n",
            "INFO:     auto_ivc_warnings check complete (0.000007 sec).\n"
          ]
        },
        {
          "output_type": "stream",
          "name": "stderr",
          "text": [
            "INFO:check_config:    auto_ivc_warnings check complete (0.000007 sec).\n"
          ]
        },
        {
          "output_type": "stream",
          "name": "stdout",
          "text": [
            "INFO: checking out_of_order...\n",
            "INFO: checking out_of_order...\n"
          ]
        },
        {
          "output_type": "stream",
          "name": "stderr",
          "text": [
            "INFO:check_config:checking out_of_order...\n"
          ]
        },
        {
          "output_type": "stream",
          "name": "stdout",
          "text": [
            "INFO:     out_of_order check complete (0.000844 sec).\n",
            "INFO:     out_of_order check complete (0.000844 sec).\n"
          ]
        },
        {
          "output_type": "stream",
          "name": "stderr",
          "text": [
            "INFO:check_config:    out_of_order check complete (0.000844 sec).\n"
          ]
        },
        {
          "output_type": "stream",
          "name": "stdout",
          "text": [
            "INFO: checking system...\n",
            "INFO: checking system...\n"
          ]
        },
        {
          "output_type": "stream",
          "name": "stderr",
          "text": [
            "INFO:check_config:checking system...\n"
          ]
        },
        {
          "output_type": "stream",
          "name": "stdout",
          "text": [
            "INFO:     system check complete (0.000072 sec).\n",
            "INFO:     system check complete (0.000072 sec).\n"
          ]
        },
        {
          "output_type": "stream",
          "name": "stderr",
          "text": [
            "INFO:check_config:    system check complete (0.000072 sec).\n"
          ]
        },
        {
          "output_type": "stream",
          "name": "stdout",
          "text": [
            "INFO: checking solvers...\n",
            "INFO: checking solvers...\n"
          ]
        },
        {
          "output_type": "stream",
          "name": "stderr",
          "text": [
            "INFO:check_config:checking solvers...\n"
          ]
        },
        {
          "output_type": "stream",
          "name": "stdout",
          "text": [
            "INFO:     solvers check complete (0.000656 sec).\n",
            "INFO:     solvers check complete (0.000656 sec).\n"
          ]
        },
        {
          "output_type": "stream",
          "name": "stderr",
          "text": [
            "INFO:check_config:    solvers check complete (0.000656 sec).\n"
          ]
        },
        {
          "output_type": "stream",
          "name": "stdout",
          "text": [
            "INFO: checking dup_inputs...\n",
            "INFO: checking dup_inputs...\n"
          ]
        },
        {
          "output_type": "stream",
          "name": "stderr",
          "text": [
            "INFO:check_config:checking dup_inputs...\n"
          ]
        },
        {
          "output_type": "stream",
          "name": "stdout",
          "text": [
            "INFO:     dup_inputs check complete (0.000267 sec).\n",
            "INFO:     dup_inputs check complete (0.000267 sec).\n"
          ]
        },
        {
          "output_type": "stream",
          "name": "stderr",
          "text": [
            "INFO:check_config:    dup_inputs check complete (0.000267 sec).\n"
          ]
        },
        {
          "output_type": "stream",
          "name": "stdout",
          "text": [
            "INFO: checking missing_recorders...\n",
            "INFO: checking missing_recorders...\n"
          ]
        },
        {
          "output_type": "stream",
          "name": "stderr",
          "text": [
            "INFO:check_config:checking missing_recorders...\n"
          ]
        },
        {
          "output_type": "stream",
          "name": "stdout",
          "text": [
            "INFO:     missing_recorders check complete (0.000003 sec).\n",
            "INFO:     missing_recorders check complete (0.000003 sec).\n"
          ]
        },
        {
          "output_type": "stream",
          "name": "stderr",
          "text": [
            "INFO:check_config:    missing_recorders check complete (0.000003 sec).\n"
          ]
        },
        {
          "output_type": "stream",
          "name": "stdout",
          "text": [
            "INFO: checking unserializable_options...\n",
            "INFO: checking unserializable_options...\n"
          ]
        },
        {
          "output_type": "stream",
          "name": "stderr",
          "text": [
            "INFO:check_config:checking unserializable_options...\n"
          ]
        },
        {
          "output_type": "stream",
          "name": "stdout",
          "text": [
            "INFO:     unserializable_options check complete (0.004062 sec).\n",
            "INFO:     unserializable_options check complete (0.004062 sec).\n"
          ]
        },
        {
          "output_type": "stream",
          "name": "stderr",
          "text": [
            "INFO:check_config:    unserializable_options check complete (0.004062 sec).\n"
          ]
        },
        {
          "output_type": "stream",
          "name": "stdout",
          "text": [
            "INFO: checking comp_has_no_outputs...\n",
            "INFO: checking comp_has_no_outputs...\n"
          ]
        },
        {
          "output_type": "stream",
          "name": "stderr",
          "text": [
            "INFO:check_config:checking comp_has_no_outputs...\n"
          ]
        },
        {
          "output_type": "stream",
          "name": "stdout",
          "text": [
            "INFO:     comp_has_no_outputs check complete (0.000133 sec).\n",
            "INFO:     comp_has_no_outputs check complete (0.000133 sec).\n"
          ]
        },
        {
          "output_type": "stream",
          "name": "stderr",
          "text": [
            "INFO:check_config:    comp_has_no_outputs check complete (0.000133 sec).\n"
          ]
        },
        {
          "output_type": "stream",
          "name": "stdout",
          "text": [
            "INFO: checking auto_ivc_warnings...\n",
            "INFO: checking auto_ivc_warnings...\n"
          ]
        },
        {
          "output_type": "stream",
          "name": "stderr",
          "text": [
            "INFO:check_config:checking auto_ivc_warnings...\n"
          ]
        },
        {
          "output_type": "stream",
          "name": "stdout",
          "text": [
            "INFO:     auto_ivc_warnings check complete (0.000008 sec).\n",
            "INFO:     auto_ivc_warnings check complete (0.000008 sec).\n"
          ]
        },
        {
          "output_type": "stream",
          "name": "stderr",
          "text": [
            "INFO:check_config:    auto_ivc_warnings check complete (0.000008 sec).\n"
          ]
        },
        {
          "output_type": "stream",
          "name": "stdout",
          "text": [
            "\n",
            "Jacobian shape: (103, 103)  (11.07% nonzero)\n",
            "FWD solves: 17   REV solves: 0\n",
            "Total colors vs. total size: 17 vs 103  (83.50% improvement)\n",
            "\n",
            "Sparsity computed using tolerance: 1e-25.\n",
            "Dense total jacobian for Problem 'problem70' was computed 3 times.\n",
            "Time to compute sparsity:   0.1247 sec\n",
            "Time to compute coloring:   0.1524 sec\n",
            "Memory to compute coloring:   0.0000 MB\n",
            "Coloring created on: 2025-03-21 20:38:25\n",
            "Optimization terminated successfully    (Exit mode 0)\n",
            "            Current function value: 4.057728642414183\n",
            "            Iterations: 12\n",
            "            Function evaluations: 25\n",
            "            Gradient evaluations: 12\n",
            "Optimization Complete\n",
            "-----------------------------------\n",
            "\n",
            "Simulating trajectory traj\n",
            "Done simulating trajectory traj\n"
          ]
        },
        {
          "output_type": "execute_result",
          "data": {
            "text/plain": [
              "Problem: problem70\n",
              "Driver:  ScipyOptimizeDriver\n",
              "  success     : True\n",
              "  iterations  : 26\n",
              "  runtime     : 8.6636E-01 s\n",
              "  model_evals : 26\n",
              "  model_time  : 4.7103E-02 s\n",
              "  deriv_evals : 13\n",
              "  deriv_time  : 1.9882E-01 s\n",
              "  exit_status : SUCCESS"
            ]
          },
          "metadata": {},
          "execution_count": 39
        }
      ],
      "source": [
        "import numpy as np\n",
        "import matplotlib.pyplot as plt\n",
        "import openmdao.api as om\n",
        "import dymos as dm\n",
        "from dymos.examples.plotting import plot_results\n",
        "\n",
        "\n",
        "g = 1.61544  # lunar gravity, m/s**2\n",
        "\n",
        "class LaunchVehicle2DEOM(om.ExplicitComponent):\n",
        "    \"\"\"\n",
        "    Simple 2D Cartesian Equations of Motion for a launch vehicle subject to thrust and drag.\n",
        "    \"\"\"\n",
        "    def initialize(self):\n",
        "        self.options.declare('num_nodes', types=int)\n",
        "\n",
        "    def setup(self):\n",
        "        nn = self.options['num_nodes']\n",
        "\n",
        "        # Inputs\n",
        "        self.add_input('vx',\n",
        "                       val=np.zeros(nn),\n",
        "                       desc='x velocity',\n",
        "                       units='m/s')\n",
        "\n",
        "        self.add_input('vy',\n",
        "                       val=np.zeros(nn),\n",
        "                       desc='y velocity',\n",
        "                       units='m/s')\n",
        "\n",
        "        self.add_input('m',\n",
        "                       val=np.zeros(nn),\n",
        "                       desc='mass',\n",
        "                       units='kg')\n",
        "\n",
        "        self.add_input('theta',\n",
        "                       val=np.zeros(nn),\n",
        "                       desc='pitch angle',\n",
        "                       units='rad')\n",
        "\n",
        "        self.add_input('thrust',\n",
        "                       val=2100000 * np.ones(nn),\n",
        "                       desc='thrust',\n",
        "                       units='N')\n",
        "\n",
        "        self.add_input('Isp',\n",
        "                       val=265.2 * np.ones(nn),\n",
        "                       desc='specific impulse',\n",
        "                       units='s')\n",
        "\n",
        "        # Outputs\n",
        "        self.add_output('xdot',\n",
        "                        val=np.zeros(nn),\n",
        "                        desc='velocity component in x',\n",
        "                        units='m/s')\n",
        "\n",
        "        self.add_output('ydot',\n",
        "                        val=np.zeros(nn),\n",
        "                        desc='velocity component in y',\n",
        "                        units='m/s')\n",
        "\n",
        "        self.add_output('vxdot',\n",
        "                        val=np.zeros(nn),\n",
        "                        desc='x acceleration magnitude',\n",
        "                        units='m/s**2')\n",
        "\n",
        "        self.add_output('vydot',\n",
        "                        val=np.zeros(nn),\n",
        "                        desc='y acceleration magnitude',\n",
        "                        units='m/s**2')\n",
        "\n",
        "        self.add_output('mdot',\n",
        "                        val=np.zeros(nn),\n",
        "                        desc='mass rate of change',\n",
        "                        units='kg/s')\n",
        "\n",
        "        # Setup partials\n",
        "        ar = np.arange(self.options['num_nodes'])\n",
        "\n",
        "        self.declare_partials(of='xdot', wrt='vx', rows=ar, cols=ar, val=1.0)\n",
        "        self.declare_partials(of='ydot', wrt='vy', rows=ar, cols=ar, val=1.0)\n",
        "\n",
        "        self.declare_partials(of='vxdot', wrt='vx', rows=ar, cols=ar)\n",
        "        self.declare_partials(of='vxdot', wrt='m', rows=ar, cols=ar)\n",
        "        self.declare_partials(of='vxdot', wrt='theta', rows=ar, cols=ar)\n",
        "        self.declare_partials(of='vxdot', wrt='thrust', rows=ar, cols=ar)\n",
        "\n",
        "        self.declare_partials(of='vydot', wrt='m', rows=ar, cols=ar)\n",
        "        self.declare_partials(of='vydot', wrt='theta', rows=ar, cols=ar)\n",
        "        self.declare_partials(of='vydot', wrt='vy', rows=ar, cols=ar)\n",
        "        self.declare_partials(of='vydot', wrt='thrust', rows=ar, cols=ar)\n",
        "\n",
        "        self.declare_partials(of='mdot', wrt='thrust', rows=ar, cols=ar)\n",
        "        self.declare_partials(of='mdot', wrt='Isp', rows=ar, cols=ar)\n",
        "\n",
        "    def compute(self, inputs, outputs):\n",
        "        theta = inputs['theta']\n",
        "        cos_theta = np.cos(theta)\n",
        "        sin_theta = np.sin(theta)\n",
        "        vx = inputs['vx']\n",
        "        vy = inputs['vy']\n",
        "        m = inputs['m']\n",
        "        F_T = inputs['thrust']\n",
        "        Isp = inputs['Isp']\n",
        "\n",
        "        outputs['xdot'] = vx\n",
        "        outputs['ydot'] = vy\n",
        "        outputs['vxdot'] = F_T * cos_theta / m\n",
        "        outputs['vydot'] = F_T * sin_theta / m - g\n",
        "        outputs['mdot'] = -F_T / (g * Isp)\n",
        "\n",
        "    def compute_partials(self, inputs, jacobian):\n",
        "        theta = inputs['theta']\n",
        "        cos_theta = np.cos(theta)\n",
        "        sin_theta = np.sin(theta)\n",
        "        m = inputs['m']\n",
        "        F_T = inputs['thrust']\n",
        "        Isp = inputs['Isp']\n",
        "\n",
        "        # jacobian['vxdot', 'vx'] = -CDA * rho * vx / m\n",
        "        jacobian['vxdot', 'm'] = -(F_T * cos_theta) / m ** 2\n",
        "        jacobian['vxdot', 'theta'] = -(F_T / m) * sin_theta\n",
        "        jacobian['vxdot', 'thrust'] = cos_theta / m\n",
        "\n",
        "        # jacobian['vydot', 'vy'] = -CDA * rho * vy / m\n",
        "        jacobian['vydot', 'm'] = -(F_T * sin_theta) / m ** 2\n",
        "        jacobian['vydot', 'theta'] = (F_T / m) * cos_theta\n",
        "        jacobian['vydot', 'thrust'] = sin_theta / m\n",
        "\n",
        "        jacobian['mdot', 'thrust'] = -1.0 / (g * Isp)\n",
        "        jacobian['mdot', 'Isp'] = F_T / (g * Isp ** 2)\n",
        "\n",
        "class LinearTangentGuidanceComp(om.ExplicitComponent):\n",
        "    \"\"\" Compute pitch angle from static controls governing linear expression for\n",
        "        pitch angle tangent as function of time.\n",
        "    \"\"\"\n",
        "\n",
        "    def initialize(self):\n",
        "        self.options.declare('num_nodes', types=int)\n",
        "\n",
        "    def setup(self):\n",
        "        nn = self.options['num_nodes']\n",
        "\n",
        "        self.add_input('a_ctrl',\n",
        "                       val=np.zeros(nn),\n",
        "                       desc='linear tangent slope',\n",
        "                       units='1/s')\n",
        "\n",
        "        self.add_input('b_ctrl',\n",
        "                       val=np.zeros(nn),\n",
        "                       desc='tangent of theta at t=0',\n",
        "                       units=None)\n",
        "\n",
        "        self.add_input('time_phase',\n",
        "                       val=np.zeros(nn),\n",
        "                       desc='time',\n",
        "                       units='s')\n",
        "\n",
        "        self.add_output('theta',\n",
        "                        val=np.zeros(nn),\n",
        "                        desc='pitch angle',\n",
        "                        units='rad')\n",
        "\n",
        "        # Setup partials\n",
        "        arange = np.arange(self.options['num_nodes'])\n",
        "\n",
        "        self.declare_partials(of='theta', wrt='a_ctrl', rows=arange, cols=arange, val=1.0)\n",
        "        self.declare_partials(of='theta', wrt='b_ctrl', rows=arange, cols=arange, val=1.0)\n",
        "        self.declare_partials(of='theta', wrt='time_phase', rows=arange, cols=arange, val=1.0)\n",
        "\n",
        "    def compute(self, inputs, outputs):\n",
        "        a = inputs['a_ctrl']\n",
        "        b = inputs['b_ctrl']\n",
        "        t = inputs['time_phase']\n",
        "        outputs['theta'] = np.arctan(a * t + b)\n",
        "\n",
        "    def compute_partials(self, inputs, jacobian):\n",
        "        a = inputs['a_ctrl']\n",
        "        b = inputs['b_ctrl']\n",
        "        t = inputs['time_phase']\n",
        "\n",
        "        x = a * t + b\n",
        "        denom = x ** 2 + 1.0\n",
        "\n",
        "        jacobian['theta', 'a_ctrl'] = t / denom\n",
        "        jacobian['theta', 'b_ctrl'] = 1.0 / denom\n",
        "        jacobian['theta', 'time_phase'] = a / denom\n",
        "\n",
        "class LaunchVehicleLinearTangentODE(om.Group):\n",
        "    \"\"\"\n",
        "    The LaunchVehicleLinearTangentODE for this case consists of a guidance component and\n",
        "    the EOM.  Guidance is simply an OpenMDAO ExecComp which computes the arctangent of the\n",
        "    tan_theta variable.\n",
        "    \"\"\"\n",
        "    def initialize(self):\n",
        "        self.options.declare('num_nodes', types=int,\n",
        "                             desc='Number of nodes to be evaluated in the RHS')\n",
        "\n",
        "    def setup(self):\n",
        "        nn = self.options['num_nodes']\n",
        "        self.add_subsystem('guidance', LinearTangentGuidanceComp(num_nodes=nn))\n",
        "        self.add_subsystem('eom', LaunchVehicle2DEOM(num_nodes=nn))\n",
        "        self.connect('guidance.theta', 'eom.theta')\n",
        "\n",
        "#\n",
        "# Setup and solve the optimal control problem\n",
        "#\n",
        "p = om.Problem(model=om.Group())\n",
        "\n",
        "p.driver = om.ScipyOptimizeDriver()\n",
        "\n",
        "p.driver.declare_coloring()\n",
        "\n",
        "traj = dm.Trajectory()\n",
        "p.model.add_subsystem('traj', traj)\n",
        "\n",
        "phase = dm.Phase(ode_class=LaunchVehicleLinearTangentODE,\n",
        "                 transcription=dm.GaussLobatto(num_segments=10, order=5, compressed=True))\n",
        "\n",
        "traj.add_phase('phase0', phase)\n",
        "\n",
        "phase.set_time_options(fix_initial=True, duration_bounds=(10, 1000),\n",
        "                       targets=['guidance.time_phase'])\n",
        "\n",
        "phase.add_state('x', fix_initial=True, lower=0, rate_source='eom.xdot', units='m')\n",
        "phase.add_state('y', fix_initial=True, lower=0, rate_source='eom.ydot', units='m')\n",
        "phase.add_state('vx', fix_initial=True, lower=0, rate_source='eom.vxdot', targets=['eom.vx'], units='m/s')\n",
        "phase.add_state('vy', fix_initial=True, rate_source='eom.vydot', targets=['eom.vy'], units='m/s')\n",
        "phase.add_state('m', fix_initial=True, rate_source='eom.mdot', targets=['eom.m'], units='kg')\n",
        "\n",
        "phase.add_boundary_constraint('y', loc='final', equals=20000.0, linear=True)\n",
        "phase.add_boundary_constraint('vx', loc='final', equals=1627.0)\n",
        "phase.add_boundary_constraint('vy', loc='final', equals=0)\n",
        "\n",
        "phase.add_parameter('a_ctrl', units='1/s', opt=True, targets=['guidance.a_ctrl'])\n",
        "phase.add_parameter('b_ctrl', units=None, opt=True, targets=['guidance.b_ctrl'])\n",
        "phase.add_parameter('thrust', units='N', opt=False, val= 35000, targets=['eom.thrust'])\n",
        "phase.add_parameter('Isp', units='s', opt=False, val= 737.48, targets=['eom.Isp'])\n",
        "\n",
        "phase.add_objective('time', index=-1, scaler=0.01)\n",
        "\n",
        "p.model.linear_solver = om.DirectSolver()\n",
        "\n",
        "phase.add_timeseries_output('guidance.theta', units='deg')\n",
        "phase.add_timeseries_output('states:m', units='kg')\n",
        "\n",
        "\n",
        "p.setup(check=True)\n",
        "\n",
        "phase.set_time_val(initial=0.0, duration=435.0)\n",
        "phase.set_state_val('x', [0, 350000.0])\n",
        "phase.set_state_val('y', [0.1, 20000.0])\n",
        "phase.set_state_val('vx', [0, 1627.0])\n",
        "phase.set_state_val('vy', [1.0E-6, 0.0])\n",
        "phase.set_state_val('m', 15200)\n",
        "phase.set_parameter_val('a_ctrl', -0.01)\n",
        "phase.set_parameter_val('b_ctrl', 0.0)\n",
        "\n",
        "dm.run_problem(p, simulate=True)"
      ]
    },
    {
      "cell_type": "code",
      "source": [
        "sol = om.CaseReader('/content/problem70_out/dymos_solution.db').get_case('final')\n",
        "sim = om.CaseReader('/content/problem70_out/traj_simulation_23_out/dymos_simulation.db').get_case('final')\n",
        "\n",
        "fig, [traj_ax, control_ax, param_ax] = plt.subplots(nrows=3, ncols=1, figsize=(10, 8))\n",
        "\n",
        "traj_ax.plot(sol.get_val('traj.phase0.timeseries.x'),\n",
        "             sol.get_val('traj.phase0.timeseries.y'),\n",
        "             marker='o',\n",
        "             ms=4,\n",
        "             linestyle='None',\n",
        "             label='solution')\n",
        "\n",
        "traj_ax.plot(sim.get_val('traj.phase0.timeseries.x'),\n",
        "             sim.get_val('traj.phase0.timeseries.y'),\n",
        "             marker=None,\n",
        "             linestyle='-',\n",
        "             label='simulation')\n",
        "\n",
        "traj_ax.set_xlabel('range (m)')\n",
        "traj_ax.set_ylabel('altitude (m)')\n",
        "traj_ax.set_aspect('equal')\n",
        "traj_ax.grid(True)\n",
        "\n",
        "control_ax.plot(sol.get_val('traj.phase0.timeseries.time'),\n",
        "             sol.get_val('traj.phase0.timeseries.theta'),\n",
        "             marker='o',\n",
        "             ms=4,\n",
        "             linestyle='None')\n",
        "\n",
        "control_ax.plot(sim.get_val('traj.phase0.timeseries.time'),\n",
        "             sim.get_val('traj.phase0.timeseries.theta'),\n",
        "             linestyle='-',\n",
        "             marker=None)\n",
        "\n",
        "control_ax.set_ylabel(r'$\\theta$ (deg)')\n",
        "control_ax.grid(True)\n",
        "\n",
        "a = sol.get_val('traj.phase0.parameters:a_ctrl')\n",
        "b = sol.get_val('traj.phase0.parameters:b_ctrl')\n",
        "t = sol.get_val('traj.phase0.timeseries.time_phase')\n",
        "tan_theta_sol = a + b * t\n",
        "\n",
        "a = sim.get_val('traj.phase0.parameters:a_ctrl')\n",
        "b = sim.get_val('traj.phase0.parameters:b_ctrl')\n",
        "t = sim.get_val('traj.phase0.timeseries.time_phase')\n",
        "tan_theta_sim = a + b * t\n",
        "\n",
        "param_ax.plot(sol.get_val('traj.phase0.timeseries.time'),\n",
        "             tan_theta_sol,\n",
        "             marker='o',\n",
        "             ms=4,\n",
        "             linestyle='None')\n",
        "\n",
        "param_ax.plot(sim.get_val('traj.phase0.timeseries.time'),\n",
        "             tan_theta_sim,\n",
        "             linestyle='-',\n",
        "             marker=None)\n",
        "\n",
        "param_ax.set_xlabel('time (s)')\n",
        "param_ax.set_ylabel(r'$tan(\\theta)$')\n",
        "param_ax.grid(True)\n",
        "\n",
        "plt.suptitle('Single Stage to Orbit Solution Using Linear Tangent Control')\n",
        "fig.legend(loc='lower center', ncol=2)\n",
        "\n",
        "plt.show()"
      ],
      "metadata": {
        "colab": {
          "base_uri": "https://localhost:8080/",
          "height": 814
        },
        "id": "sG-RxdbND7ne",
        "outputId": "ceae67a8-15c4-41a1-cbee-3fdeb27b27d5"
      },
      "execution_count": null,
      "outputs": [
        {
          "output_type": "display_data",
          "data": {
            "text/plain": [
              "<Figure size 1000x800 with 3 Axes>"
            ],
            "image/png": "[encoded data removed]"
          },
          "metadata": {}
        }
      ]
    }
  ]
}